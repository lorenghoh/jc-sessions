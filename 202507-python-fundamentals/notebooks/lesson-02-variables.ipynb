{
 "cells": [
  {
   "cell_type": "markdown",
   "id": "MJUe",
   "metadata": {
    "marimo": {
     "config": {
      "hide_code": true
     }
    }
   },
   "source": [
    "# Python Fundamentals\n",
    "\n",
    "## Lesson 02: Variables\n",
    "\n",
    "## Creating variables with assignments\n",
    "\n",
    "In Python, the primary way to create a variable is to **assign** a value to the variable using the assignment operator `=`.\n",
    "\n",
    "```{python}\n",
    "variable_name = value\n",
    "```\n",
    "\n",
    "Here, the name of the variable is on the left-hand side of the statement, and the assignment operator `=`, then the value that is to be stored in the variable.\n",
    "\n",
    "## Naming the variable\n",
    "\n",
    "Variable names in Python can be of any length, and can consist of uppercase letters [A-Z] and lowercase letters [a-z], numbers [0-9], and understore [_].\n",
    "\n",
    "The one restriction in Python is that the first character cannot be a number [0-9].\n",
    "\n",
    "For example, the following variables are declared with valid names."
   ]
  },
  {
   "cell_type": "code",
   "execution_count": 2,
   "id": "vblA",
   "metadata": {},
   "outputs": [],
   "source": [
    "name = \"Lawrence\"\n",
    "today = \"04-07-2025\"\n",
    "is_adult = True"
   ]
  },
  {
   "cell_type": "markdown",
   "id": "bkHC",
   "metadata": {
    "marimo": {
     "config": {
      "hide_code": true
     }
    }
   },
   "source": [
    "However, the following is not a valid variable declaration (try the following code)."
   ]
  },
  {
   "cell_type": "code",
   "execution_count": 3,
   "id": "94c5ed72",
   "metadata": {},
   "outputs": [
    {
     "ename": "SyntaxError",
     "evalue": "invalid decimal literal (4161728918.py, line 1)",
     "output_type": "error",
     "traceback": [
      "\u001b[0;36m  Cell \u001b[0;32mIn[3], line 1\u001b[0;36m\u001b[0m\n\u001b[0;31m    999_birds = 10\u001b[0m\n\u001b[0m       ^\u001b[0m\n\u001b[0;31mSyntaxError\u001b[0m\u001b[0;31m:\u001b[0m invalid decimal literal\n"
     ]
    }
   ],
   "source": [
    "999_birds = 10"
   ]
  },
  {
   "cell_type": "markdown",
   "id": "lEQa",
   "metadata": {
    "marimo": {
     "config": {
      "hide_code": true
     }
    }
   },
   "source": [
    "Sometimes, you will need more than one word to properly describe your variable. When using multi-word names, you can struggle to read them if there isn’t a distinguishable boundary between words:"
   ]
  },
  {
   "cell_type": "code",
   "execution_count": 4,
   "id": "PKri",
   "metadata": {},
   "outputs": [],
   "source": [
    "numberofgraduates = 200"
   ]
  },
  {
   "cell_type": "markdown",
   "id": "Xref",
   "metadata": {
    "marimo": {
     "config": {
      "hide_code": true
     }
    }
   },
   "source": [
    "The most common practices for multi-word variable names are the following:\n",
    "\n",
    "- Snake case: Lowercase words are separated by underscores. For example: number_of_graduates.\n",
    "\n",
    "- Camel case: The second and subsequent words are capitalized to make word boundaries easier to see. For example: numberOfGraduates.\n",
    "\n",
    "- Pascal case: Similar to camel case, except the first word is also capitalized. For example: NumberOfGraduates.\n",
    "\n",
    "Python recommends the snake-case style. That is, the above multi-word variable should be named:"
   ]
  },
  {
   "cell_type": "code",
   "execution_count": 5,
   "id": "SFPL",
   "metadata": {},
   "outputs": [],
   "source": [
    "number_of_graduates = 200"
   ]
  },
  {
   "cell_type": "markdown",
   "id": "BYtC",
   "metadata": {
    "marimo": {
     "config": {
      "hide_code": true
     }
    }
   },
   "source": [
    "## Example\n",
    "\n",
    "With everything we have learned so far, let's work on some examples.\n",
    "\n",
    "Write a program that create a variable called `month`, and assign \"July\" as its value. Print out the variable."
   ]
  },
  {
   "cell_type": "markdown",
   "id": "RGSE",
   "metadata": {
    "marimo": {
     "config": {
      "hide_code": true
     }
    }
   },
   "source": [
    "### Example\n",
    "\n",
    "You are tasked with building a Python program based on some databse. One of the entries in the database looks like the following table.\n",
    "\n",
    "| Last Name | First Name | State | Gender |\n",
    "|-----------|------------|-------|--------|\n",
    "| Rahn      | Sid        | NJ    | Male   |\n",
    "\n",
    "Write a program that creates four variables, whose names and values correspond to each of the columns in the above table, then print out the results. The output of the program could look like the following.\n",
    "\n",
    "```\n",
    "Sid Rahn (NJ), Male\n",
    "```"
   ]
  },
  {
   "cell_type": "markdown",
   "id": "Kclp",
   "metadata": {
    "marimo": {
     "config": {
      "hide_code": true
     }
    }
   },
   "source": [
    "## Numeric Types: Integers\n",
    "\n",
    "So far, we have mainly dealt with texts (strings). But there are many other types of data. We will now take a look at integers. An **integer** is a whole number (not a fraction or decimal) that can be negative, zero, or positive.\n",
    "\n",
    "Let's define a variable named `age`, which will contain an integer value."
   ]
  },
  {
   "cell_type": "code",
   "execution_count": 15,
   "id": "emfo",
   "metadata": {},
   "outputs": [
    {
     "name": "stdout",
     "output_type": "stream",
     "text": [
      "20\n"
     ]
    }
   ],
   "source": [
    "age = 20\n",
    "print(age)"
   ]
  },
  {
   "cell_type": "markdown",
   "id": "Hstk",
   "metadata": {
    "marimo": {
     "config": {
      "hide_code": true
     }
    }
   },
   "source": [
    "In fact, if we were to add quotation marks around the number, this would mean our variable would no longer be an integer, but a string instead. A string can contain numbers, but it is processed differently.\n",
    "\n",
    "So, why does it matter that variables have a type, when the following program still prints out the same thing twice?"
   ]
  },
  {
   "cell_type": "code",
   "execution_count": 16,
   "id": "nWHF",
   "metadata": {},
   "outputs": [
    {
     "name": "stdout",
     "output_type": "stream",
     "text": [
      "100\n",
      "100\n"
     ]
    }
   ],
   "source": [
    "number1 = 100\n",
    "number2 = \"100\"\n",
    "\n",
    "print(number1)\n",
    "print(number2)"
   ]
  },
  {
   "cell_type": "markdown",
   "id": "iLit",
   "metadata": {
    "marimo": {
     "config": {
      "hide_code": true
     }
    }
   },
   "source": [
    "Variable types matter because different operations affect different types of variables in different ways. Let's have a look at an example:"
   ]
  },
  {
   "cell_type": "code",
   "execution_count": 17,
   "id": "ZHCJ",
   "metadata": {},
   "outputs": [
    {
     "name": "stdout",
     "output_type": "stream",
     "text": [
      "200\n",
      "100100\n"
     ]
    }
   ],
   "source": [
    "print(number1 + number1)\n",
    "print(number2 + number2)"
   ]
  },
  {
   "cell_type": "markdown",
   "id": "ROlb",
   "metadata": {
    "marimo": {
     "config": {
      "hide_code": true
     }
    }
   },
   "source": [
    "Can you tell what happened here?\n",
    "\n",
    "Similarly, you cannot simply add a string and an integer together. For example, try the following code:"
   ]
  },
  {
   "cell_type": "code",
   "execution_count": 18,
   "id": "d9c8a7be",
   "metadata": {},
   "outputs": [
    {
     "ename": "TypeError",
     "evalue": "can only concatenate str (not \"int\") to str",
     "output_type": "error",
     "traceback": [
      "\u001b[0;31m---------------------------------------------------------------------------\u001b[0m",
      "\u001b[0;31mTypeError\u001b[0m                                 Traceback (most recent call last)",
      "Cell \u001b[0;32mIn[18], line 1\u001b[0m\n\u001b[0;32m----> 1\u001b[0m \u001b[38;5;28mprint\u001b[39m(\u001b[38;5;124;43m\"\u001b[39;49m\u001b[38;5;124;43mSome text \u001b[39;49m\u001b[38;5;124;43m\"\u001b[39;49m\u001b[43m \u001b[49m\u001b[38;5;241;43m+\u001b[39;49m\u001b[43m \u001b[49m\u001b[38;5;241;43m12\u001b[39;49m)\n",
      "\u001b[0;31mTypeError\u001b[0m: can only concatenate str (not \"int\") to str"
     ]
    }
   ],
   "source": [
    "print(\"Some text \" + 12)"
   ]
  },
  {
   "cell_type": "markdown",
   "id": "qnkX",
   "metadata": {
    "marimo": {
     "config": {
      "hide_code": true
     }
    }
   },
   "source": [
    "The code above did not work because the text (\"Some text\") is of type `string`, but the number (12) is of type `integer`.\n",
    "\n",
    "What if you do want to print some numbers with the text?\n",
    "\n",
    "We will need a *function* that converts an `integer` to a `string`, so that we can add it to another text, which will then concatenate the two strings together.\n",
    "\n",
    "Luckily, Python has a `str()` function that will convert the input into `string`. But how would we used a function? In Python, a *function* is defined by its name, followed by `()`, and if there is an output, you call the function using a statement that is structured like the following.\n",
    "\n",
    "```{pythoh}\n",
    "output = function(input)\n",
    "```\n",
    "\n",
    "So for the `str()` function, we can do something like"
   ]
  },
  {
   "cell_type": "code",
   "execution_count": null,
   "id": "TqIu",
   "metadata": {},
   "outputs": [
    {
     "name": "stdout",
     "output_type": "stream",
     "text": [
      "The number is 22.\n"
     ]
    }
   ],
   "source": [
    "number = input(\"Enter a number: \")\n",
    "number_as_text = str(number)\n",
    "print(\"The number is \" + number_as_text + \".\")"
   ]
  },
  {
   "cell_type": "markdown",
   "id": "Vxnm",
   "metadata": {
    "marimo": {
     "config": {
      "hide_code": true
     }
    }
   },
   "source": [
    "Actually the above example isn't exactly truthful, because the output from the `input()` function is always a string (we were just pretending that the input is an integer, because that's what we asked).\n",
    "\n",
    "So, if we do want to import a number, we should really be *casting* `number` (from the `input()` function) to integer first. We can use `int()` function to do so.\n",
    "\n",
    "```{pythoh}\n",
    "number = input(\"Enter a number: \")\n",
    "number = int(number)\n",
    "number_as_text = str(number)\n",
    "print(\"The number is \" + number_as_text + \".\")\n",
    "```\n",
    "\n",
    "But can we simplify this a bit further?\n",
    "\n",
    "You can always *nest* multiple functions. Let's say there are two functions, `func1` then `func2`, you want to apply to a variable. Then, you would write\n",
    "\n",
    "```{pythoh}\n",
    "output = func2(func(input))\n",
    "```\n",
    "\n",
    "In our case, the above code can be simplified as\n",
    "\n",
    "```{pythoh}\n",
    "number = int(input(\"Enter a number: \"))\n",
    "number_as_text = str(number)\n",
    "print(\"The number is \" + number_as_text + \".\")\n",
    "```"
   ]
  },
  {
   "cell_type": "markdown",
   "id": "DnEU",
   "metadata": {
    "marimo": {
     "config": {
      "hide_code": true
     }
    }
   },
   "source": [
    "### Example\n",
    "\n",
    "Write a program that asks for a number from the user, increment the number by one, and print the result. The following shows a possible interaction with this program.\n",
    "\n",
    "```\n",
    "Enter a number: 4\n",
    "The increment is: 5\n",
    "```"
   ]
  },
  {
   "cell_type": "markdown",
   "id": "ulZA",
   "metadata": {
    "marimo": {
     "config": {
      "hide_code": true
     }
    }
   },
   "source": [
    "### Example\n",
    "\n",
    "Write a program that asks for two numbers from the user and display the total and the difference of the two numbers. The following shows a possible interaction with this program.\n",
    "\n",
    "```\n",
    "> Define x = 27\n",
    "> Define y = 12\n",
    "\n",
    "> 27 + 12 = 39\n",
    "> 27 - 12 = 15\n",
    "```"
   ]
  },
  {
   "cell_type": "markdown",
   "id": "86200f50",
   "metadata": {},
   "source": [
    "### Example\n",
    "\n",
    "Write a program that asks for three numbers from the user and disply *just the sum* of the three numbers. The following shows a possible interaction with this program.\n",
    "\n",
    "```\n",
    "> Enter first number: 2\n",
    "> Enter second number: 11\n",
    "> Enter third number: 4\n",
    "\n",
    "> The sum of the numbers is: 17\n",
    "```\n",
    "\n",
    "Can you write this program with just one variable?"
   ]
  }
 ],
 "metadata": {
  "kernelspec": {
   "display_name": ".venv",
   "language": "python",
   "name": "python3"
  },
  "language_info": {
   "codemirror_mode": {
    "name": "ipython",
    "version": 3
   },
   "file_extension": ".py",
   "mimetype": "text/x-python",
   "name": "python",
   "nbconvert_exporter": "python",
   "pygments_lexer": "ipython3",
   "version": "3.10.16"
  }
 },
 "nbformat": 4,
 "nbformat_minor": 5
}
