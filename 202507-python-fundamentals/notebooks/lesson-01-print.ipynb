{
 "cells": [
  {
   "cell_type": "markdown",
   "id": "MJUe",
   "metadata": {
    "marimo": {
     "config": {
      "hide_code": true
     }
    }
   },
   "source": [
    "# Python Fundamentals\n",
    "\n",
    "## Lesson 01: Getting started\n",
    "\n",
    "Computer programs consist of commands, each command instructing the computer to take some action. A computer executes these commands one by one. Among other things, commands can be used to perform calculations, compare things in the computer's memory, cause changes in how the program functions, relay messages or ask for information from the program's user.\n",
    "\n",
    "Let's begin programming by getting familiar with the print command, which prints text. In this context, printing essentially means that the program will show some text on the screen.\n",
    "\n",
    "This is a classic example of a *hello world* program, which is traditionally how you get started with a new programming language."
   ]
  },
  {
   "cell_type": "code",
   "execution_count": 1,
   "id": "vblA",
   "metadata": {},
   "outputs": [
    {
     "name": "stdout",
     "output_type": "stream",
     "text": [
      "Hello World!\n"
     ]
    }
   ],
   "source": [
    "print(\"Hello World!\")"
   ]
  },
  {
   "cell_type": "markdown",
   "id": "bkHC",
   "metadata": {
    "marimo": {
     "config": {
      "hide_code": true
     }
    }
   },
   "source": [
    "The program will not work unless the code is written exactly as it is above. For example, try to run the print command without the quotation marks."
   ]
  },
  {
   "cell_type": "code",
   "execution_count": 3,
   "id": "544ec6d1",
   "metadata": {},
   "outputs": [
    {
     "ename": "SyntaxError",
     "evalue": "invalid syntax. Perhaps you forgot a comma? (2443755642.py, line 1)",
     "output_type": "error",
     "traceback": [
      "\u001b[0;36m  Cell \u001b[0;32mIn[3], line 1\u001b[0;36m\u001b[0m\n\u001b[0;31m    print(Hello World!)\u001b[0m\n\u001b[0m          ^\u001b[0m\n\u001b[0;31mSyntaxError\u001b[0m\u001b[0;31m:\u001b[0m invalid syntax. Perhaps you forgot a comma?\n"
     ]
    }
   ],
   "source": [
    "print(Hello World!)"
   ]
  },
  {
   "cell_type": "markdown",
   "id": "lEQa",
   "metadata": {
    "marimo": {
     "config": {
      "hide_code": true
     }
    }
   },
   "source": [
    "### Example\n",
    "\n",
    "Write a Python script that prints out the following lines *exactly* as they are written.\n",
    "\n",
    "```\n",
    "> Row, row, row your boat,\n",
    "> Gently down the stream.\n",
    "> Merrily, merrily, merrily, merrily,\n",
    "> Life is but a dream.\n",
    "```"
   ]
  },
  {
   "cell_type": "markdown",
   "id": "PKri",
   "metadata": {
    "marimo": {
     "config": {
      "hide_code": true
     }
    }
   },
   "source": [
    "In summary, if you want to print text, the text must all be encased in quotation marks or Python will not interpret it correctly.\n",
    "\n",
    "In Python, the *text* wrapped in quotation marks are called *strings*. Before we delve into the details of variable types, however, we need to first talk about variables and variable assignments in Python."
   ]
  },
  {
   "cell_type": "markdown",
   "id": "Xref",
   "metadata": {
    "marimo": {
     "config": {
      "hide_code": true
     }
    }
   },
   "source": [
    "## Variables\n",
    "\n",
    "In programming, you assign **data** to **variables**. A *variable* is defined by a named used to store some *value*, like a string or a number. You store a value into a variable so that it can be used later, or be changed.\n",
    "\n",
    "For example, if you want to store a value of $10$ into a variable named *x*, you would write"
   ]
  },
  {
   "cell_type": "code",
   "execution_count": 4,
   "id": "SFPL",
   "metadata": {},
   "outputs": [
    {
     "name": "stdout",
     "output_type": "stream",
     "text": [
      "10\n"
     ]
    }
   ],
   "source": [
    "x = 10\n",
    "print(x)"
   ]
  },
  {
   "cell_type": "markdown",
   "id": "BYtC",
   "metadata": {
    "marimo": {
     "config": {
      "hide_code": true
     }
    }
   },
   "source": [
    "The assignment operator \"`=`\" assigns a value to a variable.\n",
    "\n",
    "Because Python is a dynamic, *type-inferred* programming language, you do not have to worry about matching variable types. In fact, we can re-assign text into the variable like the following."
   ]
  },
  {
   "cell_type": "code",
   "execution_count": 5,
   "id": "RGSE",
   "metadata": {},
   "outputs": [
    {
     "name": "stdout",
     "output_type": "stream",
     "text": [
      "10\n",
      "Some Text\n"
     ]
    }
   ],
   "source": [
    "y = 10\n",
    "print(y)\n",
    "\n",
    "y = \"Some Text\"\n",
    "print(y)"
   ]
  },
  {
   "cell_type": "markdown",
   "id": "Kclp",
   "metadata": {
    "marimo": {
     "config": {
      "hide_code": true
     }
    }
   },
   "source": [
    "In Python, you can assign multiple values to multiple variables by *chaining* the assignment statements."
   ]
  },
  {
   "cell_type": "code",
   "execution_count": 6,
   "id": "emfo",
   "metadata": {},
   "outputs": [
    {
     "name": "stdout",
     "output_type": "stream",
     "text": [
      "1\n",
      "2\n",
      "Hello?\n"
     ]
    }
   ],
   "source": [
    "a, b, c = 1, 2, \"Hello?\"\n",
    "\n",
    "print(a)\n",
    "print(b)\n",
    "print(c)"
   ]
  },
  {
   "cell_type": "markdown",
   "id": "Hstk",
   "metadata": {
    "marimo": {
     "config": {
      "hide_code": true
     }
    }
   },
   "source": [
    "You can also ask for an input from the user to define a variable. You would use a Python command named `input()` to do this. Write the following program that asks for the user's name and prints out a message."
   ]
  },
  {
   "cell_type": "code",
   "execution_count": 7,
   "id": "nWHF",
   "metadata": {},
   "outputs": [
    {
     "name": "stdout",
     "output_type": "stream",
     "text": [
      "Hello, Steve\n"
     ]
    }
   ],
   "source": [
    "name = input(\"Tell me your name: \")\n",
    "print(\"Hello, \" + name)"
   ]
  },
  {
   "cell_type": "markdown",
   "id": "iLit",
   "metadata": {
    "marimo": {
     "config": {
      "hide_code": true
     }
    }
   },
   "source": [
    "### Example\n",
    "\n",
    "Write a program that asks for the user's name and prints the name twice, on two different lines. The following shows an example of the output from the program.\n",
    "\n",
    "```\n",
    "> What is your name? Steve\n",
    "> Steve\n",
    "> Steve\n",
    "```"
   ]
  },
  {
   "cell_type": "markdown",
   "id": "ZHCJ",
   "metadata": {
    "marimo": {
     "config": {
      "hide_code": true
     }
    }
   },
   "source": [
    "A variable can be referenced multiple times in a program. With strings in Python, combining multiple texts (strings) are as easy as simply adding multiple variables."
   ]
  },
  {
   "cell_type": "code",
   "execution_count": 8,
   "id": "ROlb",
   "metadata": {},
   "outputs": [
    {
     "name": "stdout",
     "output_type": "stream",
     "text": [
      "Hello, Steve That is a nice name, Steve.\n"
     ]
    }
   ],
   "source": [
    "print(\"Hello, \" + name + \" That is a nice name, \" + name + \".\")"
   ]
  },
  {
   "cell_type": "markdown",
   "id": "qnkX",
   "metadata": {
    "marimo": {
     "config": {
      "hide_code": true
     }
    }
   },
   "source": [
    "You could, of course, ask for more than one input."
   ]
  },
  {
   "cell_type": "code",
   "execution_count": 9,
   "id": "TqIu",
   "metadata": {},
   "outputs": [
    {
     "name": "stdout",
     "output_type": "stream",
     "text": [
      "Your name is Steve Austin?\n"
     ]
    }
   ],
   "source": [
    "first_name = input(\"What is your first name? \")\n",
    "last_name = input(\"What is your last name? \")\n",
    "\n",
    "print(\"Your name is \" + first_name + \" \" + last_name + \"?\")"
   ]
  },
  {
   "cell_type": "markdown",
   "id": "Vxnm",
   "metadata": {
    "marimo": {
     "config": {
      "hide_code": true
     }
    }
   },
   "source": [
    "### Example\n",
    "\n",
    "Write a program that asks for a user's name and address. The program will then print out the given information.\n",
    "\n",
    "```\n",
    "> What is your first name? Steve\n",
    "> What is your last name? Sanders\n",
    "> What is your street address? 91 Station Road\n",
    "> City and postal code? London EC05 6AW\n",
    "\n",
    "> Steve Sanders\n",
    "> 91 Station Road\n",
    "> London EC05 6AW\n",
    "```"
   ]
  },
  {
   "cell_type": "markdown",
   "id": "DnEU",
   "metadata": {
    "marimo": {
     "config": {
      "hide_code": true
     }
    }
   },
   "source": [
    "### Example\n",
    "\n",
    "Write a program that asks for three words, and prints out the combination of the three words. For example,\n",
    "\n",
    "```\n",
    "> First word: Bibbidi\n",
    "> Second word: Bobbidi\n",
    "> Third word: Boo\n",
    ">\n",
    "> Bibbidi-Bobbidi-Boo\n",
    "```"
   ]
  }
 ],
 "metadata": {
  "kernelspec": {
   "display_name": ".venv",
   "language": "python",
   "name": "python3"
  },
  "language_info": {
   "codemirror_mode": {
    "name": "ipython",
    "version": 3
   },
   "file_extension": ".py",
   "mimetype": "text/x-python",
   "name": "python",
   "nbconvert_exporter": "python",
   "pygments_lexer": "ipython3",
   "version": "3.10.16"
  }
 },
 "nbformat": 4,
 "nbformat_minor": 5
}
