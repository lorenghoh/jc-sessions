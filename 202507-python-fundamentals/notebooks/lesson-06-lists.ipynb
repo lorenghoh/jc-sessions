{
 "cells": [
  {
   "cell_type": "code",
   "execution_count": 1,
   "id": "Hbol",
   "metadata": {},
   "outputs": [],
   "source": [
    "import marimo as mo"
   ]
  },
  {
   "cell_type": "markdown",
   "id": "MJUe",
   "metadata": {
    "marimo": {
     "config": {
      "hide_code": true
     }
    }
   },
   "source": [
    "# Lesson 6: Lists\n",
    "\n",
    "# List Basics\n",
    "\n",
    "In our programs, we've been storing data using variables where each piece of information has its own name. However, this can become complicated when dealing with a large amount of data because it requires creating many separate variables.\n",
    "\n",
    "A list is like a collection basket or container in programming. You can store multiple items within it. Instead of creating a new variable for each item, all the items are stored together under one variable name.\n",
    "\n",
    "In Python, you define a list by placing its contents within square brackets.\n",
    "\n",
    "For example, if I have names \"John,\" \"Paul,\" and \"Sarah,\" I can group them into a single list named \"**people**\".\n",
    "\n",
    "It might look like this:"
   ]
  },
  {
   "cell_type": "code",
   "execution_count": 2,
   "id": "vblA",
   "metadata": {},
   "outputs": [],
   "source": [
    "people = [\"John\", \"Paul\", \"Sarah\"]"
   ]
  },
  {
   "cell_type": "markdown",
   "id": "bkHC",
   "metadata": {
    "marimo": {
     "config": {
      "hide_code": true
     }
    }
   },
   "source": [
    "Each item inside the list is called an *element* or an *item*.\n",
    "\n",
    "This way, instead of assigning each name to a variable, they're all stored together, making it easier to manage and access.\n",
    "\n",
    "A list can also be defined with no items."
   ]
  },
  {
   "cell_type": "code",
   "execution_count": 3,
   "id": "lEQa",
   "metadata": {},
   "outputs": [
    {
     "name": "stdout",
     "output_type": "stream",
     "text": [
      "[]\n"
     ]
    }
   ],
   "source": [
    "numbers = []\n",
    "\n",
    "print(numbers)"
   ]
  },
  {
   "cell_type": "markdown",
   "id": "PKri",
   "metadata": {
    "marimo": {
     "config": {
      "hide_code": true
     }
    }
   },
   "source": [
    "Individual *items* (or *elements*) can be accessed using square brackets."
   ]
  },
  {
   "cell_type": "code",
   "execution_count": 4,
   "id": "Xref",
   "metadata": {},
   "outputs": [
    {
     "name": "stdout",
     "output_type": "stream",
     "text": [
      "8\n",
      "32\n",
      "4\n",
      "6\n",
      "The sum of first and third element is: 12\n"
     ]
    }
   ],
   "source": [
    "num_list = [8, 32, 4, 6]\n",
    "\n",
    "print(num_list[0])\n",
    "print(num_list[1])\n",
    "print(num_list[2])\n",
    "print(num_list[3])\n",
    "\n",
    "print(f\"The sum of first and third element is: {num_list[0] + num_list[2]}\")"
   ]
  },
  {
   "cell_type": "markdown",
   "id": "SFPL",
   "metadata": {
    "marimo": {
     "config": {
      "hide_code": true
     }
    }
   },
   "source": [
    "Lists are *mutable*, which means that the elements can be updated (changed)."
   ]
  },
  {
   "cell_type": "code",
   "execution_count": 5,
   "id": "BYtC",
   "metadata": {},
   "outputs": [
    {
     "name": "stdout",
     "output_type": "stream",
     "text": [
      "[8, 13, 4, 6]\n"
     ]
    }
   ],
   "source": [
    "num_list[1] = 13\n",
    "\n",
    "print(num_list)"
   ]
  },
  {
   "cell_type": "markdown",
   "id": "RGSE",
   "metadata": {
    "marimo": {
     "config": {
      "hide_code": true
     }
    }
   },
   "source": [
    "Lastly, if you want to know the *length* of the list (i.e. the number of elements, or items, in the list), use the `len()` function."
   ]
  },
  {
   "cell_type": "code",
   "execution_count": 6,
   "id": "Kclp",
   "metadata": {},
   "outputs": [
    {
     "name": "stdout",
     "output_type": "stream",
     "text": [
      "4\n"
     ]
    }
   ],
   "source": [
    "print(len(num_list))"
   ]
  },
  {
   "cell_type": "markdown",
   "id": "emfo",
   "metadata": {
    "marimo": {
     "config": {
      "hide_code": true
     }
    }
   },
   "source": [
    "## Example 1\n",
    "\n",
    "First, create a list with values `[0, 1, 2, 3, 4, 5]`.\n",
    "\n",
    "Swap every value in the list so that the elements are sorted in a descending order; that is, the resulting list starts with the largest number and ends with the smallest number. Then print out the following line.\n",
    "\n",
    "```\n",
    "The sum between the first three numbers are: 12\n",
    "```"
   ]
  },
  {
   "cell_type": "markdown",
   "id": "Hstk",
   "metadata": {
    "marimo": {
     "config": {
      "hide_code": true
     }
    }
   },
   "source": [
    "# List Manipulations\n",
    "\n",
    "## Adding items\n",
    "\n",
    "Items or elements can be added to a list using the `append()` method."
   ]
  },
  {
   "cell_type": "code",
   "execution_count": 7,
   "id": "nWHF",
   "metadata": {},
   "outputs": [
    {
     "name": "stdout",
     "output_type": "stream",
     "text": [
      "[13, 14, 16]\n"
     ]
    }
   ],
   "source": [
    "empty_list = []\n",
    "\n",
    "empty_list.append(13)\n",
    "empty_list.append(14)\n",
    "empty_list.append(16)\n",
    "\n",
    "print(empty_list)"
   ]
  },
  {
   "cell_type": "markdown",
   "id": "iLit",
   "metadata": {
    "marimo": {
     "config": {
      "hide_code": true
     }
    }
   },
   "source": [
    "## Adding items at a specific index\n",
    "\n",
    "The `append()` method always adds the item at the end. If you want to add the item at a specific position (based on an index), you can use the `insert()` method instead. If there are any items at the specific position, all items to the right of the inserted position get pushed to the right, in the direction of the increasing index."
   ]
  },
  {
   "cell_type": "code",
   "execution_count": 8,
   "id": "ZHCJ",
   "metadata": {},
   "outputs": [
    {
     "name": "stdout",
     "output_type": "stream",
     "text": [
      "Before insert: [13, 14, 16]\n",
      "After insert: [13, 14, 15, 16]\n"
     ]
    }
   ],
   "source": [
    "print(f\"Before insert: {empty_list}\")\n",
    "\n",
    "empty_list.insert(2, 15)\n",
    "\n",
    "print(f\"After insert: {empty_list}\")"
   ]
  },
  {
   "cell_type": "markdown",
   "id": "ROlb",
   "metadata": {
    "marimo": {
     "config": {
      "hide_code": true
     }
    }
   },
   "source": [
    "## Removing items\n",
    "\n",
    "Just like adding items, there are two ways to remove an item from a list.\n",
    "\n",
    "- `pop()` if you want to remove an item at a specific index\n",
    "- `remove()` if you want to remove an item based on its value"
   ]
  },
  {
   "cell_type": "markdown",
   "id": "qnkX",
   "metadata": {
    "marimo": {
     "config": {
      "hide_code": true
     }
    }
   },
   "source": [
    "### Index-based `pop()`\n",
    "\n",
    "Like `insert()` method, `pop()` required the index of the element you want to remove. The following example removes items at index 2 from the list."
   ]
  },
  {
   "cell_type": "markdown",
   "id": "TqIu",
   "metadata": {
    "marimo": {
     "config": {
      "hide_code": true
     }
    }
   },
   "source": []
  },
  {
   "cell_type": "code",
   "execution_count": 9,
   "id": "Vxnm",
   "metadata": {},
   "outputs": [
    {
     "name": "stdout",
     "output_type": "stream",
     "text": [
      "Before removal: [13, 14, 15, 16]\n",
      "After removal: [13, 14, 16]\n"
     ]
    }
   ],
   "source": [
    "print(f\"Before removal: {empty_list}\")\n",
    "\n",
    "empty_list.pop(2)\n",
    "\n",
    "print(f\"After removal: {empty_list}\")"
   ]
  },
  {
   "cell_type": "markdown",
   "id": "DnEU",
   "metadata": {
    "marimo": {
     "config": {
      "hide_code": true
     }
    }
   },
   "source": [
    "It might be useful to know that `pop()` method removes the item and also returns the item."
   ]
  },
  {
   "cell_type": "code",
   "execution_count": 10,
   "id": "ulZA",
   "metadata": {},
   "outputs": [
    {
     "name": "stdout",
     "output_type": "stream",
     "text": [
      "[13, 14, 16]\n",
      "[13, 16]\n",
      "14\n"
     ]
    }
   ],
   "source": [
    "print(empty_list)\n",
    "\n",
    "removed = empty_list.pop(1)\n",
    "\n",
    "print(empty_list)\n",
    "print(removed)"
   ]
  },
  {
   "cell_type": "markdown",
   "id": "ecfG",
   "metadata": {
    "marimo": {
     "config": {
      "hide_code": true
     }
    }
   },
   "source": [
    "### Example 2\n",
    "\n",
    "Create a list with the following items: `[1, 2, 3, 4, 5]`.\n",
    "\n",
    "Using the `pop()` function, remove all odd numbers from the list, and output the resulting list. You may use `while` loop, which will make it easier."
   ]
  },
  {
   "cell_type": "markdown",
   "id": "Pvdt",
   "metadata": {
    "marimo": {
     "config": {
      "hide_code": true
     }
    }
   },
   "source": [
    "### Value-based `remove()`\n",
    "\n",
    "On the other hand, the `remove()` method requires the value of an item to be removed."
   ]
  },
  {
   "cell_type": "code",
   "execution_count": 11,
   "id": "ZBYS",
   "metadata": {},
   "outputs": [
    {
     "name": "stdout",
     "output_type": "stream",
     "text": [
      "[1, 2, 3, 3, 6]\n"
     ]
    }
   ],
   "source": [
    "remove_list = [1, 1, 2, 3, 3, 6]\n",
    "\n",
    "remove_list.remove(1)\n",
    "\n",
    "print(remove_list)"
   ]
  },
  {
   "cell_type": "markdown",
   "id": "aLJB",
   "metadata": {
    "marimo": {
     "config": {
      "hide_code": true
     }
    }
   },
   "source": [
    "Notice that the `remove()` method removed the **fist** element that appears.\n",
    "\n",
    "You need to call the `remove()` method multiple times in this case. However, if you try to remove an item that does not exist, Python will throw and error. In this case, you may want to check if the item exists in the list using the `in` operator."
   ]
  },
  {
   "cell_type": "code",
   "execution_count": 12,
   "id": "nHfw",
   "metadata": {},
   "outputs": [
    {
     "name": "stdout",
     "output_type": "stream",
     "text": [
      "[2, 3, 3, 6]\n"
     ]
    }
   ],
   "source": [
    "if 1 in remove_list:\n",
    "    remove_list.remove(1)\n",
    "\n",
    "print(remove_list)"
   ]
  },
  {
   "cell_type": "markdown",
   "id": "xXTn",
   "metadata": {
    "marimo": {
     "config": {
      "hide_code": true
     }
    }
   },
   "source": [
    "### Example 3\n",
    "\n",
    "Create a list with the following items: `[1, 1, 2, 1, 3, 6]`.\n",
    "\n",
    "Write a `while` loop that iterates through this list and removes the number 1 from the list until all 1s are removed from the list. Then output the resulting list."
   ]
  }
 ],
 "metadata": {
  "kernelspec": {
   "display_name": ".venv",
   "language": "python",
   "name": "python3"
  },
  "language_info": {
   "codemirror_mode": {
    "name": "ipython",
    "version": 3
   },
   "file_extension": ".py",
   "mimetype": "text/x-python",
   "name": "python",
   "nbconvert_exporter": "python",
   "pygments_lexer": "ipython3",
   "version": "3.13.5"
  }
 },
 "nbformat": 4,
 "nbformat_minor": 5
}
