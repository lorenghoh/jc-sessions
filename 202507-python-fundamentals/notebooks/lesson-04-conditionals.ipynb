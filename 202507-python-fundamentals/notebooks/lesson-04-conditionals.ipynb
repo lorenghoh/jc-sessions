{
 "cells": [
  {
   "cell_type": "code",
   "execution_count": 1,
   "id": "Hbol",
   "metadata": {},
   "outputs": [],
   "source": [
    "import marimo as mo"
   ]
  },
  {
   "cell_type": "markdown",
   "id": "MJUe",
   "metadata": {
    "marimo": {
     "config": {
      "hide_code": true
     }
    }
   },
   "source": [
    "# Lesson 04: Conditional Statements\n",
    "\n",
    "So far, the programs we wrote executetd line-by-line. That is, the computer *executes* every line of the written code top-to-bottom every single time. However, sometimes you want to do different things under different conditions, in which case we use *if-statements*.\n",
    "\n",
    "If-statements are essential in programming because they allow code to branch out—think of them as decision-making tools for computers. Imagine you're planning your route home during rush hour traffic: you decide whether to take the train, car, or bike based on how much time you have. Similarly, programs need to make choices to navigate through tasks efficiently.\n",
    "\n",
    "In Python, if-statements are implemented using the `if` keyword. They follow a specific\n",
    "structure:\n",
    "\n",
    "1. **Condition:** A statement that evaluates as either `True` or `False`.\n",
    "2. **Colon:** Followed by a colon to introduce the indented block of code.\n",
    "3. **Indentation:** The code inside the if-statement is indented, and Python executes it\n",
    "only when the condition is true."
   ]
  },
  {
   "cell_type": "code",
   "execution_count": 2,
   "id": "vblA",
   "metadata": {},
   "outputs": [
    {
     "name": "stdout",
     "output_type": "stream",
     "text": [
      "Hello world!\n"
     ]
    }
   ],
   "source": [
    "user_input = \"yes\"\n",
    "\n",
    "if user_input == \"yes\":\n",
    "    print(\"Hello world!\")"
   ]
  },
  {
   "cell_type": "markdown",
   "id": "bkHC",
   "metadata": {
    "marimo": {
     "config": {
      "hide_code": true
     }
    }
   },
   "source": [
    "The code above prints \"Hello world!\" only when the input is \"yes\". The indented line is executed only when the condition is met. For example,"
   ]
  },
  {
   "cell_type": "code",
   "execution_count": 3,
   "id": "lEQa",
   "metadata": {},
   "outputs": [],
   "source": [
    "if user_input == \"no\":\n",
    "    print(\"Hello world!\")"
   ]
  },
  {
   "cell_type": "markdown",
   "id": "PKri",
   "metadata": {
    "marimo": {
     "config": {
      "hide_code": true
     }
    }
   },
   "source": [
    "Nothing happens when the code above is run, because the condition is not met.\n",
    "\n",
    "The if-statements follow the same structure.\n",
    "\n",
    "```\n",
    "if CONDITION:\n",
    "    EXECUTE\n",
    "```\n",
    "\n",
    "Notice the tap (or 4 spaces) before `EXECUTE`? In Python, tapped lines define a *code block*. In the above code, the `EXECUTE` block is executed if and only if the condition is met for the if-statement.\n",
    "\n",
    "A **block** of code is a group of lines that can be executed as a single unit, typically defined by indentation.\n",
    "\n",
    "This structure allows for better organization and readability, particularly within control structures like if-else statements and loops. The use of indentation helps group related lines of code logically, making it easier to manage nested conditions and loops.\n",
    "\n",
    "A code block within an `if` statement in Python is defined as a set of statements that follow the colon (`:`) after the `if` keyword. These statements, indented to a specific level, execute only when the condition specified by the `if` statement is met. The indentation signifies which lines are part of the conditional block, allowing nested structures for more complex logic. This structure helps in organizing code and managing multiple conditions or loops within the same scope."
   ]
  },
  {
   "cell_type": "code",
   "execution_count": 4,
   "id": "Xref",
   "metadata": {},
   "outputs": [
    {
     "name": "stdout",
     "output_type": "stream",
     "text": [
      "You are an adult!\n",
      "You are now one year older...\n",
      "This here belongs to the main block\n"
     ]
    }
   ],
   "source": [
    "# This is the start of the `main` block\n",
    "age = 20\n",
    "\n",
    "if age >= 18:\n",
    "    # beginning of the conditional block\n",
    "    print(\"You are an adult!\")\n",
    "    age = age + 1\n",
    "    print(\"You are now one year older...\")\n",
    "    # end of the conditional block\n",
    "\n",
    "print(\"This here belongs to the main block\")"
   ]
  },
  {
   "cell_type": "markdown",
   "id": "SFPL",
   "metadata": {
    "marimo": {
     "config": {
      "hide_code": true
     }
    }
   },
   "source": [
    "## Example\n",
    "\n",
    "Write a program which asks for the hourly wage, hours worked, and the day of the week.\n",
    "\n",
    "The program should then print out the daily wages, which equal hourly wage multiplied by hours worked, except on Sundays when the hourly wage is doubled.\n",
    "\n",
    "```\n",
    "Hourly wage dollars: 8.5\n",
    "Hours worked: 3\n",
    "Day of the week: Monday\n",
    "Daily wages: 25.5 dollars\n",
    "```\n",
    "\n",
    "```\n",
    "Hourly wage: 12.5\n",
    "Hours worked: 10\n",
    "Day of the week: Sunday\n",
    "Daily wages: 250.0 dollars\n",
    "```"
   ]
  },
  {
   "cell_type": "markdown",
   "id": "BYtC",
   "metadata": {
    "marimo": {
     "config": {
      "hide_code": true
     }
    }
   },
   "source": [
    "## Logical operators\n",
    "\n",
    "To evaluate the *condition*, we need first to talk about truth values of variables. The variables that can hold the values of `True` and `False` are called **boolean variables**, named after the English mathematician George Boole. In Python, this corresponds to the `bool` data type.\n",
    "\n",
    "Any expressions that result in a Boolean value, either `True` or `False`, are called *Boolean expressions*. The *condition* in the example above is of course a Boolean expression as well.\n",
    "\n",
    "Remember that the result of a Boolean expression is always a Boolean value, either `True` or `False`, which means that the result can be assigned into a variable."
   ]
  },
  {
   "cell_type": "code",
   "execution_count": 5,
   "id": "RGSE",
   "metadata": {},
   "outputs": [
    {
     "name": "stdout",
     "output_type": "stream",
     "text": [
      "The condition is met.\n"
     ]
    }
   ],
   "source": [
    "condition = True\n",
    "\n",
    "if condition:\n",
    "    print(\"The condition is met.\")"
   ]
  },
  {
   "cell_type": "markdown",
   "id": "Kclp",
   "metadata": {
    "marimo": {
     "config": {
      "hide_code": true
     }
    }
   },
   "source": [
    "Usually, Boolean expressions are defined by *Boolean operators*, used to define the truth values of an expression. Here are the common Boolean operators we will be using in this course.\n",
    "\n",
    "| Operator | Purpose | Example |\n",
    "|----------|---------|:--------|\n",
    "| `==` | Equal to | `x == y` |\n",
    "| `!=` | Not equal to | `x != y` |\n",
    "| `>` | Greater than | `x > y` |\n",
    "| `<` | Less than | `x < y` |\n",
    "| `>=` | Greater than or equal to | `x >= y` |\n",
    "| `<=` | Less than or euqal to | `x <= y` |\n",
    "\n",
    "Let's consider the following example. You have two numbers (integer values) `x` and `y`, and you'd like to print the larger of the two numbers. Using an if-statement, the program will look like the following."
   ]
  },
  {
   "cell_type": "code",
   "execution_count": 6,
   "id": "emfo",
   "metadata": {},
   "outputs": [
    {
     "name": "stdout",
     "output_type": "stream",
     "text": [
      "The larger number is: 8.\n"
     ]
    }
   ],
   "source": [
    "x = 8\n",
    "y = 3\n",
    "\n",
    "if (x > y):\n",
    "    print(f\"The larger number is: {x}.\")\n",
    "\n",
    "if (y > x):\n",
    "    print(f\"The larger number is: {y}.\")\n",
    "\n",
    "if (x == y):\n",
    "    print(\"The two numbers are the same.\")"
   ]
  },
  {
   "cell_type": "markdown",
   "id": "Hstk",
   "metadata": {
    "marimo": {
     "config": {
      "hide_code": true
     }
    }
   },
   "source": [
    "## If-else statements\n",
    "\n",
    "This looks a bit clumsy and repetitive. We only ever want to execute one of the if blocks, because one of the two numbers will always be either larger (or equal to) the other. So, the first conditional statement actually contains all we need here. If it is true, `x` is larger. If it is false, either `y` is larger or they are the same.\n",
    "\n",
    "Instead of creating a whole another conditional statement, as in the example above, it is possible to create another branch of the same conditional statement to cover all cases where the condition was false. This is called the `else` statement.\n",
    "\n",
    "Let's rewrite the previous example."
   ]
  },
  {
   "cell_type": "code",
   "execution_count": 7,
   "id": "nWHF",
   "metadata": {},
   "outputs": [
    {
     "name": "stdout",
     "output_type": "stream",
     "text": [
      "The larger number is: 8.\n"
     ]
    }
   ],
   "source": [
    "if (x > y):\n",
    "    print(f\"The larger number is: {x}.\")\n",
    "else:\n",
    "    print(f\"The larger number is: {y}.\")"
   ]
  },
  {
   "cell_type": "markdown",
   "id": "iLit",
   "metadata": {
    "marimo": {
     "config": {
      "hide_code": true
     }
    }
   },
   "source": [
    "When using an if-else construction, one and exactly one of the branches will always be executed.\n",
    "\n",
    "## Example\n",
    "\n",
    "Write a program that checks whether a number given by the user is even or odd. Parity can be checked with the modulo operator `%`, which produces the remainder of an integer division operation. When divided by two, if the remainder is zero, the number is even. Otherwise the number is odd.\n",
    "\n",
    "```\n",
    "Please type in a number: 2\n",
    "The number is even.\n",
    "```\n",
    "\n",
    "```\n",
    "Please type in a number: 3\n",
    "The number is odd.\n",
    "```"
   ]
  },
  {
   "cell_type": "markdown",
   "id": "ZHCJ",
   "metadata": {
    "marimo": {
     "config": {
      "hide_code": true
     }
    }
   },
   "source": [
    "## If-elif-else statements\n",
    "\n",
    "Actually, in the previous example, we did not cover the last case, which is that the two numbers are the same, and therefore no number is larger than the other. Now we have more than three cases:\n",
    "\n",
    "1. `x` is larger\n",
    "2. `y` is larger\n",
    "3. They are the same number\n",
    "\n",
    "A conditional statement can be added to with an `elif` branch. It is short for the words \"else if\", which means the branch will contain an alternative to the original condition. Importantly, an `elif` statement is executed only if none of the preceding branches is executed.\n",
    "\n",
    "## Example\n",
    "\n",
    "Let's finish the number comparison program that we started at the beginning of this class. The program asks for two numbers, and tells the user whichever one is larger. If the two numbers are the same, the program should print a different message accordingly.\n",
    "\n",
    "```\n",
    "Please type in the first number: 5\n",
    "Please type in another number: 3\n",
    "The larger number is: 5\n",
    "```\n",
    "\n",
    "```\n",
    "Please type in the first number: 5\n",
    "Please type in another number: 5\n",
    "The numbers are the same!\n",
    "```"
   ]
  },
  {
   "cell_type": "markdown",
   "id": "ROlb",
   "metadata": {
    "marimo": {
     "config": {
      "hide_code": true
     }
    }
   },
   "source": [
    "## Example\n",
    "\n",
    "Python comparison operators can also be used on strings. String a is smaller than string b if it comes alphabetically before b.\n",
    "\n",
    "Write a program that asks the user for two words. The program should then print out whichever of the two comes alphabetically last.\n",
    "\n",
    "```\n",
    "Please type in the first word: car\n",
    "Please type in the second word: scooter\n",
    "scooter comes alphabetically last.\n",
    "```\n",
    "\n",
    "```\n",
    "Please type in the 1st word: python\n",
    "Please type in the 2nd word: python\n",
    "You gave the same word twice.\n",
    "```"
   ]
  },
  {
   "cell_type": "markdown",
   "id": "qnkX",
   "metadata": {
    "marimo": {
     "config": {
      "hide_code": true
     }
    }
   },
   "source": [
    "# Combining Conditions\n",
    "\n",
    "You can combine conditions with the logical operators `and` and `or`. The operator `and` specifies that all the given conditions must be true at the same time. The operator `or` specifies that at least one of the given conditions must be true.\n",
    "\n",
    "Let's say you want to determine if a number is between 5 and 8. There are two conditions, `number >= 5` **and** `number <= 8`. Normally, you would want to paranthesize each condition. So you can write `(number >= 5) and (number <= 8)`."
   ]
  },
  {
   "cell_type": "code",
   "execution_count": 8,
   "id": "TqIu",
   "metadata": {},
   "outputs": [
    {
     "name": "stdout",
     "output_type": "stream",
     "text": [
      "The number is between 5 and 8\n"
     ]
    }
   ],
   "source": [
    "number = 5\n",
    "\n",
    "if (number >= 5) and (number <= 8):\n",
    "    print(\"The number is between 5 and 8\")"
   ]
  },
  {
   "cell_type": "markdown",
   "id": "Vxnm",
   "metadata": {
    "marimo": {
     "config": {
      "hide_code": true
     }
    }
   },
   "source": [
    "Meanwhile, the condition `(number < 5) or (number > 8)` determines that number must be either less than 5 or greater than 8. That is, it must not be within the range of 5 to 8."
   ]
  },
  {
   "cell_type": "markdown",
   "id": "DnEU",
   "metadata": {
    "marimo": {
     "config": {
      "hide_code": true
     }
    }
   },
   "source": [
    "## Example\n",
    "\n",
    "Write a program that asks for four integers, and prints the largest of the four numbers given. Use `if-elif-else` statements and consider the four cases: `n1` is the largest, `n2` is the largest, `n3` is the largest, or `n4` is the largest.\n",
    "\n",
    "```\n",
    "Number 1: 2\n",
    "Number 2: 4\n",
    "Number 3: 1\n",
    "Number 4: 1\n",
    "\n",
    "4 is the greatest of the numbers.\n",
    "```"
   ]
  },
  {
   "cell_type": "markdown",
   "id": "ulZA",
   "metadata": {
    "marimo": {
     "config": {
      "hide_code": true
     }
    }
   },
   "source": [
    "## Example\n",
    "\n",
    "The table below outlines the grade boundaries on a certain university course. Write a program that asks for the amount of points received and then prints out the grade attained according to the table.\n",
    "\n",
    "| Points | Grade |\n",
    "|--------|-------|\n",
    "| < 0 | Impossible|\n",
    "| 0 - 49 | Fail |\n",
    "| 50 - 59 | D |\n",
    "| 60 - 69 | C |\n",
    "| 70 - 79 | B |\n",
    "| 80 - 90 | A |\n",
    "| 90 - 100 | A+ |\n",
    "| > 100 | Impossible |\n",
    "\n",
    "```\n",
    "Enter points [0-100]: 37\n",
    "Grade: fail\n",
    "```"
   ]
  },
  {
   "cell_type": "markdown",
   "id": "ecfG",
   "metadata": {
    "marimo": {
     "config": {
      "hide_code": true
     }
    }
   },
   "source": [
    "# Nested Conditionals\n",
    "\n",
    "Conditional statements can also be nested within other conditional statements. For example, the following program checks whether a number is above zero, and then whether it is odd or even:"
   ]
  },
  {
   "cell_type": "code",
   "execution_count": 9,
   "id": "Pvdt",
   "metadata": {},
   "outputs": [
    {
     "name": "stdout",
     "output_type": "stream",
     "text": [
      "The number is odd\n"
     ]
    }
   ],
   "source": [
    "if number > 0:\n",
    "    if number % 2 == 0:\n",
    "        print(\"The number is even\")\n",
    "    else:\n",
    "        print(\"The number is odd\")\n",
    "else:\n",
    "    print(\"The number is negative or zero\")"
   ]
  },
  {
   "cell_type": "markdown",
   "id": "ZBYS",
   "metadata": {
    "marimo": {
     "config": {
      "hide_code": true
     }
    }
   },
   "source": [
    "## Example\n",
    "\n",
    "Generally, any year that is divisible by four is a leap year. However, if the year is additionally divisible by 100, it is a leap year only if it also divisible by 400.\n",
    "\n",
    "Write a program that asks the user for a year, and then prints out whether that year is a leap year or not.\n",
    "\n",
    "```\n",
    "Type in a year: 2011\n",
    "That year is not a leap year.\n",
    "```\n",
    "\n",
    "```\n",
    "Please type in a year: 2020\n",
    "That year is a leap year.\n",
    "```\n",
    "\n",
    "```\n",
    "Please type in a year: 1800\n",
    "That year is not a leap year.\n",
    "```"
   ]
  },
  {
   "cell_type": "markdown",
   "id": "aLJB",
   "metadata": {
    "marimo": {
     "config": {
      "hide_code": true
     }
    }
   },
   "source": [
    "## Example\n",
    "\n",
    "Write a program which asks the user for three letters. The program should then print out whichever of the three letters would be in the middle if the letters were in alphabetical order.\n",
    "\n",
    "```\n",
    "1st letter: x\n",
    "2nd letter: c\n",
    "3rd letter: p\n",
    "The letter in the middle is p\n",
    "```"
   ]
  }
 ],
 "metadata": {
  "kernelspec": {
   "display_name": ".venv",
   "language": "python",
   "name": "python3"
  },
  "language_info": {
   "codemirror_mode": {
    "name": "ipython",
    "version": 3
   },
   "file_extension": ".py",
   "mimetype": "text/x-python",
   "name": "python",
   "nbconvert_exporter": "python",
   "pygments_lexer": "ipython3",
   "version": "3.13.5"
  }
 },
 "nbformat": 4,
 "nbformat_minor": 5
}
