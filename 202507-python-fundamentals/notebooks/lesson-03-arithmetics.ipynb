{
 "cells": [
  {
   "cell_type": "code",
   "execution_count": 1,
   "id": "Hbol",
   "metadata": {},
   "outputs": [],
   "source": [
    "import marimo as mo"
   ]
  },
  {
   "cell_type": "markdown",
   "id": "MJUe",
   "metadata": {
    "marimo": {
     "config": {
      "hide_code": true
     }
    }
   },
   "source": [
    "# Python Fundamentals\n",
    "\n",
    "## Lesson 03: Arithmetic Operations\n",
    "\n",
    "We have done a couple of simple mathematical operations, and now it is time to properly introduce common arithmetic operators in Python. See the following table.\n",
    "\n",
    "| Operator | Operation | Example |\n",
    "|:--------:|:----------|:--------|\n",
    "| `+` | Addition  | 1 + 2 = 3 |\n",
    "| `-` | Subtraction| 2 - 1 = 1 |\n",
    "| `*` | Multiplication | 2 * 2 = 4 |\n",
    "| `**` | Exponentiation | 2 ** 3 = 8 |\n",
    "| `/` | Division | 9 / 2 = 4.5 |\n",
    "| `//` | Floor Division | 9 / 2 = 4 |\n",
    "| `%` | Modulo | 9 / 2 = 1 |\n",
    "\n",
    "The data type of an operand usually determines the data type of the result: if two integers are added together, the result will also be an integer. If a floating point number is subtracted from another floating point number, the result is a floating point number. In fact, if a single one of the operands in an expression is a floating point number, the result will also be a floating point number, regardless of the other operands.\n",
    "\n",
    "Division `/` is an exception to this rule. Its result is a floating point number, even if the operands are integers. For example `1 / 5` will result in the floating point number 0.2."
   ]
  },
  {
   "cell_type": "code",
   "execution_count": 2,
   "id": "vblA",
   "metadata": {},
   "outputs": [
    {
     "name": "stdout",
     "output_type": "stream",
     "text": [
      "The BMI is 23.037177063642087\n"
     ]
    }
   ],
   "source": [
    "height = 172.5\n",
    "weight = 68.55\n",
    "\n",
    "# the Body Mass Index, or BMI, is calculated by dividing body mass with the square of height\n",
    "# height is converted into metres in the formula\n",
    "bmi = weight / (height / 100) ** 2\n",
    "\n",
    "print(f\"The BMI is {bmi}\")"
   ]
  },
  {
   "cell_type": "markdown",
   "id": "bkHC",
   "metadata": {
    "marimo": {
     "config": {
      "hide_code": true
     }
    }
   },
   "source": [
    "Python also has the floor division, or integer division, operator `//`, which returns an integer by flooring the resulting value."
   ]
  },
  {
   "cell_type": "code",
   "execution_count": 3,
   "id": "lEQa",
   "metadata": {},
   "outputs": [
    {
     "name": "stdout",
     "output_type": "stream",
     "text": [
      "/ operator 1.5\n",
      "// operator 1\n"
     ]
    }
   ],
   "source": [
    "x = 3\n",
    "y = 2\n",
    "\n",
    "print(f\"/ operator {x / y}\")\n",
    "print(f\"// operator {x // y}\")"
   ]
  },
  {
   "cell_type": "markdown",
   "id": "PKri",
   "metadata": {
    "marimo": {
     "config": {
      "hide_code": true
     }
    }
   },
   "source": [
    "## Example\n",
    "\n",
    "Write a program that asks the user to input the number of days. The program then prints out the number of seconds for the given number of days.\n",
    "\n",
    "The following shows a possible interaction with this program.\n",
    "\n",
    "```\n",
    "Enter number of days: 7\n",
    "Number of Seconds: 604800\n",
    "```"
   ]
  },
  {
   "cell_type": "markdown",
   "id": "Xref",
   "metadata": {
    "marimo": {
     "config": {
      "hide_code": true
     }
    }
   },
   "source": [
    "## Example\n",
    "\n",
    "Write a program that asks the user for two numbers. The program then prints the sum and the product of the two numbers.\n",
    "\n",
    "The following shows a possible interaction with this program.\n",
    "\n",
    "```\n",
    "Enter Number 1: 3\n",
    "Enter Number 2: 7\n",
    "The sum of the numbers: 10\n",
    "The product of the numbers: 21\n",
    "```"
   ]
  },
  {
   "cell_type": "markdown",
   "id": "SFPL",
   "metadata": {
    "marimo": {
     "config": {
      "hide_code": true
     }
    }
   },
   "source": [
    "## Example\n",
    "\n",
    "Write a program which estimates a user's typical food expenditure.\n",
    "\n",
    "The program asks the user how many times a week they eat at the student cafeteria. Then it asks for the price of a typical student lunch, and for money spent on groceries during the week.\n",
    "\n",
    "Based on this information the program calculates the user's typical food expenditure both weekly and daily.\n",
    "\n",
    "The program should function as follows.\n",
    "\n",
    "```\n",
    "How many times a week do you eat at the student cafeteria? 4\n",
    "The price of a typical student lunch? 2.5\n",
    "How much money do you spend on groceries in a week? 28.5\n",
    "\n",
    "Average food expenditure:\n",
    "Daily: 5.5 euros\n",
    "Weekly: 38.5 euros\n",
    "```"
   ]
  }
 ],
 "metadata": {
  "kernelspec": {
   "display_name": ".venv",
   "language": "python",
   "name": "python3"
  },
  "language_info": {
   "codemirror_mode": {
    "name": "ipython",
    "version": 3
   },
   "file_extension": ".py",
   "mimetype": "text/x-python",
   "name": "python",
   "nbconvert_exporter": "python",
   "pygments_lexer": "ipython3",
   "version": "3.10.16"
  }
 },
 "nbformat": 4,
 "nbformat_minor": 5
}
