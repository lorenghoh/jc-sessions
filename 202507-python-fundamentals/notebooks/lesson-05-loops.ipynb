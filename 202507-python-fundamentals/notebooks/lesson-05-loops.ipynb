{
 "cells": [
  {
   "cell_type": "code",
   "execution_count": 7,
   "id": "Hbol",
   "metadata": {},
   "outputs": [],
   "source": [
    "import marimo as mo"
   ]
  },
  {
   "cell_type": "markdown",
   "id": "MJUe",
   "metadata": {
    "marimo": {
     "config": {
      "hide_code": true
     }
    }
   },
   "source": [
    "# Lesson 6: Loops\n",
    "\n",
    "Last time, we have tried the `while True` loop to repeat sections of code. Because the condition of the loop is set to `True`, the condition is met every time the loop iterates. We need to explicitly break out of the loop when we want to stop the loop."
   ]
  },
  {
   "cell_type": "code",
   "execution_count": 8,
   "id": "vblA",
   "metadata": {},
   "outputs": [
    {
     "name": "stdout",
     "output_type": "stream",
     "text": [
      "1\n",
      "2\n",
      "3\n",
      "4\n"
     ]
    }
   ],
   "source": [
    "# Print numbers until the variable a equals 5\n",
    "a = 1\n",
    "\n",
    "while True:\n",
    "    print(a)\n",
    "    a += 1\n",
    "    if a == 5:\n",
    "        break"
   ]
  },
  {
   "cell_type": "markdown",
   "id": "bkHC",
   "metadata": {
    "marimo": {
     "config": {
      "hide_code": true
     }
    }
   },
   "source": [
    "The general structure of the while statement is as follows:\n",
    "\n",
    "```\n",
    "while CONDITION:\n",
    "    BLOCK\n",
    "```\n",
    "\n",
    "Notice that the syntax for the `while` loop is similar to that of the `if` statement: both statements consist of some Boolean expression (condition) and the code block that you want to repeat.\n",
    "\n",
    "In the followin example, we want to count up from a given number. The block is executed if and only if the variable `number` is less than 10."
   ]
  },
  {
   "cell_type": "code",
   "execution_count": 9,
   "id": "lEQa",
   "metadata": {},
   "outputs": [
    {
     "name": "stdout",
     "output_type": "stream",
     "text": [
      "4\n",
      "5\n",
      "6\n",
      "7\n",
      "8\n",
      "9\n",
      "Done!\n"
     ]
    }
   ],
   "source": [
    "number = 4\n",
    "\n",
    "while (number < 10):\n",
    "    print(number)\n",
    "    number = number + 1\n",
    "\n",
    "print(\"Done!\")"
   ]
  },
  {
   "cell_type": "markdown",
   "id": "PKri",
   "metadata": {
    "marimo": {
     "config": {
      "hide_code": true
     }
    }
   },
   "source": [
    "## Loop Structure\n",
    "\n",
    "To create a loop, you need three components: initilization, condition, and update.\n",
    "\n",
    "**Initialization** deals with setting the initiali values for the variables being used in the loop. This has to be performed before the loop begins.\n",
    "\n",
    "**Condition** defines how long the loop will run.\n",
    "\n",
    "**Update** needs to be performed within the loop, in a way that each iteration will bring the loop one step closer to the completion of the loop.\n",
    "\n",
    "## Example 1\n",
    "\n",
    "Write a program that prints out all even numbers between 2 and 30."
   ]
  },
  {
   "cell_type": "markdown",
   "id": "Xref",
   "metadata": {
    "marimo": {
     "config": {
      "hide_code": true
     }
    }
   },
   "source": [
    "## Example 2: Fix the code\n",
    "\n",
    "The program below has some syntactic issues:\n",
    "\n",
    "```{python}\n",
    "print(\"Are you ready?\")\n",
    "number = int(input(\"Please type in a number: \"))\n",
    "while number = 0:\n",
    "print(number)\n",
    "print(\"Now!\")\n",
    "```\n",
    "\n",
    "Please fix the code so that it prints out the following:\n",
    "\n",
    "```\n",
    "Are you ready?\n",
    "Please type in a number: 5\n",
    "5\n",
    "4\n",
    "3\n",
    "2\n",
    "1\n",
    "Now!\n",
    "```"
   ]
  },
  {
   "cell_type": "markdown",
   "id": "SFPL",
   "metadata": {
    "marimo": {
     "config": {
      "hide_code": true
     }
    }
   },
   "source": [
    "## Example 3\n",
    "\n",
    "Write a program that asks the user for an integer value as input, and prints out all integers greater than zero but smaller than the number give.\n",
    "\n",
    "```\n",
    "Enter a number: 5\n",
    "1\n",
    "2\n",
    "3\n",
    "4\n",
    "```"
   ]
  },
  {
   "cell_type": "markdown",
   "id": "BYtC",
   "metadata": {
    "marimo": {
     "config": {
      "hide_code": true
     }
    }
   },
   "source": [
    "## Example 4\n",
    "\n",
    "Write a program that asks the user for an integer value, which will be the upper limit. The program prints out numbers, starting from 1, so that each subsequent number is twice as large as the last number, up to the upper limit given by the user.\n",
    "\n",
    "```\n",
    "Upper limit: 8\n",
    "1\n",
    "2\n",
    "4\n",
    "8\n",
    "```\n",
    "\n",
    "```\n",
    "Upper limit: 20\n",
    "1\n",
    "2\n",
    "4\n",
    "8\n",
    "16\n",
    "```"
   ]
  },
  {
   "cell_type": "markdown",
   "id": "RGSE",
   "metadata": {
    "marimo": {
     "config": {
      "hide_code": true
     }
    }
   },
   "source": [
    "## Example 5\n",
    "\n",
    "Let's write a program that asks the user to enter a number, and calculates the sum of all numbers starting from 1, until the sum is at least equal to the number entered by the user.\n",
    "\n",
    "```\n",
    "Limit: 2\n",
    "3\n",
    "```\n",
    "\n",
    "```\n",
    "Limit: 10\n",
    "10\n",
    "```"
   ]
  },
  {
   "cell_type": "markdown",
   "id": "Kclp",
   "metadata": {
    "marimo": {
     "config": {
      "hide_code": true
     }
    }
   },
   "source": [
    "## Strings, revisited\n",
    "\n",
    "Remember that you can append strings by adding them together."
   ]
  },
  {
   "cell_type": "code",
   "execution_count": 10,
   "id": "emfo",
   "metadata": {},
   "outputs": [
    {
     "name": "stdout",
     "output_type": "stream",
     "text": [
      "word 1 word 2 word 3\n"
     ]
    }
   ],
   "source": [
    "words = \"word 1\"\n",
    "words = words + \" word 2\"\n",
    "words = words + \" word 3\"\n",
    "\n",
    "print(words)"
   ]
  },
  {
   "cell_type": "markdown",
   "id": "Hstk",
   "metadata": {
    "marimo": {
     "config": {
      "hide_code": true
     }
    }
   },
   "source": [
    "We can, however, simplify this using the loop syntax."
   ]
  },
  {
   "cell_type": "code",
   "execution_count": 11,
   "id": "nWHF",
   "metadata": {},
   "outputs": [
    {
     "name": "stdout",
     "output_type": "stream",
     "text": [
      "word 1 word 2 word 3 \n"
     ]
    }
   ],
   "source": [
    "n = 1\n",
    "w = \"\"\n",
    "\n",
    "while n <= 3:\n",
    "    w = w + f\"word {n} \"\n",
    "    n = n + 1\n",
    "\n",
    "print(w)"
   ]
  },
  {
   "cell_type": "markdown",
   "id": "iLit",
   "metadata": {
    "marimo": {
     "config": {
      "hide_code": true
     }
    }
   },
   "source": [
    "## Example 6\n",
    "\n",
    "Let's update our code from the previous example. In addition to the result, let's also print the actual calculation.\n",
    "\n",
    "```\n",
    "Limit: 2\n",
    "The consecutive sum: 1 + 2 = 3\n",
    "```\n",
    "\n",
    "```\n",
    "Limit: 10\n",
    "The consecutive sum: 1 + 2 + 3 + 4 = 10\n",
    "```"
   ]
  },
  {
   "cell_type": "markdown",
   "id": "ZHCJ",
   "metadata": {
    "marimo": {
     "config": {
      "hide_code": true
     }
    }
   },
   "source": [
    "## Nested loops\n",
    "\n",
    "As we have practiced using the `if` statements, loops can also be nested inside another loop. For example, the following program uses a loop to ask the user to input numbers. It then uses another loop inside the first one to print a countdown from the given number down to 1."
   ]
  },
  {
   "cell_type": "code",
   "execution_count": 12,
   "id": "ROlb",
   "metadata": {},
   "outputs": [
    {
     "name": "stdout",
     "output_type": "stream",
     "text": [
      "3 2 1 0 \n",
      "2 1 0 \n",
      "1 0 \n",
      "0 \n",
      "Iteration complete.\n"
     ]
    }
   ],
   "source": [
    "x = 3\n",
    "\n",
    "while x >= 0:\n",
    "    i = x\n",
    "    s = \"\"\n",
    "\n",
    "    while i >= 0:\n",
    "        s = s + f\"{i} \"\n",
    "        i = i - 1\n",
    "    print(s)\n",
    "\n",
    "    x = x - 1\n",
    "\n",
    "print(\"Iteration complete.\")"
   ]
  },
  {
   "cell_type": "markdown",
   "id": "qnkX",
   "metadata": {},
   "source": [
    "## Example 7\n",
    "\n",
    "Write a program that asks the user for an integer value. The program then prints out a list of multiplication operations until both operands reach the number given by the user.\n",
    "\n",
    "```\n",
    "Please type in a number: 2\n",
    "1 x 1 = 1\n",
    "1 x 2 = 2\n",
    "2 x 1 = 2\n",
    "2 x 2 = 4\n",
    "```\n",
    "\n",
    "```\n",
    "Please type in a number: 3\n",
    "1 x 1 = 1\n",
    "1 x 2 = 2\n",
    "1 x 3 = 3\n",
    "2 x 1 = 2\n",
    "2 x 2 = 4\n",
    "2 x 3 = 6\n",
    "3 x 1 = 3\n",
    "3 x 2 = 6\n",
    "3 x 3 = 9\n",
    "```"
   ]
  }
 ],
 "metadata": {
  "kernelspec": {
   "display_name": ".venv",
   "language": "python",
   "name": "python3"
  },
  "language_info": {
   "codemirror_mode": {
    "name": "ipython",
    "version": 3
   },
   "file_extension": ".py",
   "mimetype": "text/x-python",
   "name": "python",
   "nbconvert_exporter": "python",
   "pygments_lexer": "ipython3",
   "version": "3.10.16"
  }
 },
 "nbformat": 4,
 "nbformat_minor": 5
}
