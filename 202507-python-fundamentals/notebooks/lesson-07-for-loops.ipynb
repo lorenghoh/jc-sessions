{
 "cells": [
  {
   "cell_type": "code",
   "execution_count": 1,
   "id": "Hbol",
   "metadata": {},
   "outputs": [],
   "source": [
    "import marimo as mo"
   ]
  },
  {
   "cell_type": "markdown",
   "id": "MJUe",
   "metadata": {
    "marimo": {
     "config": {
      "hide_code": true
     }
    }
   },
   "source": [
    "# Lesson 07: Definite Iterations\n",
    "\n",
    "Accessing all items from a list is troublesome as the list bocomes longer and longer. We can do this iteratively using the `while` loop, as shown below."
   ]
  },
  {
   "cell_type": "code",
   "execution_count": 2,
   "id": "vblA",
   "metadata": {},
   "outputs": [
    {
     "name": "stdout",
     "output_type": "stream",
     "text": [
      "3\n",
      "2\n",
      "4\n",
      "5\n",
      "2\n"
     ]
    }
   ],
   "source": [
    "while_list = [3, 2, 4, 5, 2]\n",
    "\n",
    "index = 0\n",
    "while index < len(while_list):\n",
    "    print(while_list[index])\n",
    "    index = index + 1"
   ]
  },
  {
   "cell_type": "markdown",
   "id": "bkHC",
   "metadata": {
    "marimo": {
     "config": {
      "hide_code": true
     }
    }
   },
   "source": [
    "In the Python programming language, fortunately, there is an easier, and more intuitive way to perform this operation.\n",
    "\n",
    "# The `for` loop\n",
    "\n",
    "The `for` loop is a type of a definite iteration, where the number of loops is known before the loop begins. This is because the loop is defined for a *collection*; for example, we have dealt with strings (collections of characters) and list (collections of values).\n",
    "\n",
    "The syntax for a for loop is as follows.\n",
    "\n",
    "```{python}\n",
    "for INDEX in COLLECTION:\n",
    "    EXECUTE\n",
    "```\n",
    "\n",
    "For example, we can re-write the above `while` loop as follows."
   ]
  },
  {
   "cell_type": "code",
   "execution_count": 3,
   "id": "lEQa",
   "metadata": {},
   "outputs": [
    {
     "name": "stdout",
     "output_type": "stream",
     "text": [
      "3\n",
      "2\n",
      "4\n",
      "5\n",
      "2\n"
     ]
    }
   ],
   "source": [
    "for item in while_list:\n",
    "    print(item)"
   ]
  },
  {
   "cell_type": "markdown",
   "id": "PKri",
   "metadata": {
    "marimo": {
     "config": {
      "hide_code": true
     }
    }
   },
   "source": [
    "Likewise, as we have noted, strings can be considered to be a collection of characters, which can be used in a `for` loop."
   ]
  },
  {
   "cell_type": "code",
   "execution_count": 4,
   "id": "Xref",
   "metadata": {},
   "outputs": [
    {
     "name": "stdout",
     "output_type": "stream",
     "text": [
      "G\n",
      "r\n",
      "a\n",
      "c\n",
      "e\n"
     ]
    }
   ],
   "source": [
    "name = \"Grace\"\n",
    "\n",
    "for character in name:\n",
    "    print(character)"
   ]
  },
  {
   "cell_type": "markdown",
   "id": "SFPL",
   "metadata": {
    "marimo": {
     "config": {
      "hide_code": true
     }
    }
   },
   "source": [
    "## Example 1\n",
    "\n",
    "Write a program that asks the user to enter his name. The program then outputs each character on separate lines, with a dash (`-`) in between. The following shows a possible interaction with this program.\n",
    "\n",
    "```\n",
    "Enter your name: Steve\n",
    "S\n",
    "-\n",
    "t\n",
    "-\n",
    "e\n",
    "-\n",
    "v\n",
    "-\n",
    "e\n",
    "-\n",
    "```"
   ]
  },
  {
   "cell_type": "markdown",
   "id": "BYtC",
   "metadata": {
    "marimo": {
     "config": {
      "hide_code": true
     }
    }
   },
   "source": [
    "# The `range()` function\n",
    "\n",
    "Very often, we want to repeat a certain block of code only a set number of time. For example, we want to go through a list containing 10 numbers:"
   ]
  },
  {
   "cell_type": "code",
   "execution_count": 5,
   "id": "RGSE",
   "metadata": {},
   "outputs": [
    {
     "name": "stdout",
     "output_type": "stream",
     "text": [
      "0\n",
      "1\n",
      "2\n",
      "3\n",
      "4\n",
      "5\n",
      "6\n",
      "7\n",
      "8\n",
      "9\n"
     ]
    }
   ],
   "source": [
    "for i in [0, 1, 2, 3, 4, 5, 6, 7, 8, 9]:\n",
    "    print(i)"
   ]
  },
  {
   "cell_type": "markdown",
   "id": "Kclp",
   "metadata": {
    "marimo": {
     "config": {
      "hide_code": true
     }
    }
   },
   "source": [
    "Python has a helper function to support a use case like this. The `range()` function, when used in a loop, can be used to loop through a *range* of numbers.\n",
    "\n",
    "There are a few different ways to use the `range()` function. The simplest way is to give it a number, and the loop will iterate from 0 to the number being given. For example,"
   ]
  },
  {
   "cell_type": "code",
   "execution_count": 6,
   "id": "emfo",
   "metadata": {},
   "outputs": [
    {
     "name": "stdout",
     "output_type": "stream",
     "text": [
      "0\n",
      "1\n",
      "2\n",
      "3\n",
      "4\n",
      "5\n",
      "6\n",
      "7\n",
      "8\n",
      "9\n"
     ]
    }
   ],
   "source": [
    "for r in range(10):\n",
    "    print(r)"
   ]
  },
  {
   "cell_type": "markdown",
   "id": "Hstk",
   "metadata": {
    "marimo": {
     "config": {
      "hide_code": true
     }
    }
   },
   "source": [
    "You can also use the `range()` function with two numbers, in which case the loop with start with the first number, and terminate at the second number - 1. For example,"
   ]
  },
  {
   "cell_type": "code",
   "execution_count": 7,
   "id": "nWHF",
   "metadata": {},
   "outputs": [
    {
     "name": "stdout",
     "output_type": "stream",
     "text": [
      "1\n",
      "2\n",
      "3\n",
      "4\n",
      "5\n"
     ]
    }
   ],
   "source": [
    "for j in range(1, 6):\n",
    "    print(j)"
   ]
  },
  {
   "cell_type": "markdown",
   "id": "iLit",
   "metadata": {
    "marimo": {
     "config": {
      "hide_code": true
     }
    }
   },
   "source": [
    "Finally, if you use the `range()` function with three numbers, the last number will be used to determine the *step size*. For example, the following code goes through even numbers between 0 and 10."
   ]
  },
  {
   "cell_type": "code",
   "execution_count": 8,
   "id": "ZHCJ",
   "metadata": {},
   "outputs": [
    {
     "name": "stdout",
     "output_type": "stream",
     "text": [
      "0\n",
      "2\n",
      "4\n",
      "6\n",
      "8\n",
      "10\n"
     ]
    }
   ],
   "source": [
    "for k in range(0, 11, 2):\n",
    "    print(k)"
   ]
  },
  {
   "cell_type": "markdown",
   "id": "ROlb",
   "metadata": {
    "marimo": {
     "config": {
      "hide_code": true
     }
    }
   },
   "source": [
    "## Example 2\n",
    "\n",
    "Create the following list: `[3, 7, 1, 1, 2]`.\n",
    "\n",
    "Write a program that prints lines of stars (`*`), one per item in the given list. For example, the above list should print the following output.\n",
    "\n",
    "Use `string` multiplication here; if you multiply (`*`) a `string` object, it gets repeated by the number being multiplied.\n",
    "\n",
    "```\n",
    "***\n",
    "*******\n",
    "*\n",
    "*\n",
    "**\n",
    "```\n",
    "\n",
    "Also test your code with the following list: `[1, 3, 2, 4, 6]`."
   ]
  },
  {
   "cell_type": "markdown",
   "id": "qnkX",
   "metadata": {
    "marimo": {
     "config": {
      "hide_code": true
     }
    }
   },
   "source": [
    "## Example 3\n",
    "\n",
    "Write a program, using a for loop, that outputs the sum of the following two lists as a new list. You can manually write down the two lists in your script.\n",
    "\n",
    "```{python}\n",
    "a = [1, 2, 3, 4, 5, 6, 7, 8, 9]\n",
    "b = [9, 8, 7, 6, 5, 4, 3, 2, 1]\n",
    "```"
   ]
  },
  {
   "cell_type": "markdown",
   "id": "TqIu",
   "metadata": {
    "marimo": {
     "config": {
      "hide_code": true
     }
    }
   },
   "source": [
    "# Nested loops\n",
    "\n",
    "Depending on the task at hand, you may need to *nest* your `for` loops. Here, the inner loop gets repeated by the outer loop."
   ]
  },
  {
   "cell_type": "code",
   "execution_count": 9,
   "id": "Vxnm",
   "metadata": {},
   "outputs": [
    {
     "name": "stdout",
     "output_type": "stream",
     "text": [
      "1 1\n",
      "1 2\n",
      "1 3\n",
      "\n",
      "2 1\n",
      "2 2\n",
      "2 3\n",
      "\n",
      "3 1\n",
      "3 2\n",
      "3 3\n",
      "\n"
     ]
    }
   ],
   "source": [
    "for a in range(1, 3 + 1):\n",
    "\n",
    "    for b in range(1, 3 + 1):\n",
    "        print(a, b)\n",
    "\n",
    "    print(\"\")"
   ]
  },
  {
   "cell_type": "markdown",
   "id": "DnEU",
   "metadata": {
    "marimo": {
     "config": {
      "hide_code": true
     }
    }
   },
   "source": [
    "## Example 4\n",
    "\n",
    "Let's revisit a previous example.\n",
    "\n",
    "Create the following list: `[3, 2, 1, 3, 2]`.\n",
    "\n",
    "Write a program that prints lines of stars (`*`), one per item in the given list. For example, the above list should print the following output.\n",
    "\n",
    "Do not use `string` multiplication here; instead, write the star (`*`) using nested loops.\n",
    "\n",
    "```\n",
    "***\n",
    "**\n",
    "*\n",
    "***\n",
    "**\n",
    "```"
   ]
  },
  {
   "cell_type": "markdown",
   "id": "ulZA",
   "metadata": {
    "marimo": {
     "config": {
      "hide_code": true
     }
    }
   },
   "source": [
    "## Example 5\n",
    "\n",
    "Write a program that, given the following list of numbers, prints out only the distinctive (unique) items in the given list.\n",
    "\n",
    "You can create a new list, only containing unique items, or use the `remove()` function to modify the given list. There are also a number of other ways to solve this problem; be creative, but make sure to use `for` loops.\n",
    "\n",
    "```{python}\n",
    "my_list = [3, 2, 2, 1, 3, 3, 1]\n",
    "```\n",
    "\n",
    "`[1, 2, 3]`"
   ]
  },
  {
   "cell_type": "markdown",
   "id": "ecfG",
   "metadata": {
    "marimo": {
     "config": {
      "hide_code": true
     }
    }
   },
   "source": [
    "# Finding extremes\n",
    "\n",
    "For example, the following `for` loop goes through a list to find the largest item in that list. In order to solve this problem using the loop structure, one must **remember** the current largest value during the iteration.\n",
    "\n",
    "To do that, the simplest way is to create a `temporary` variable. This temporary value is compared to every value in the list, and whenever the target value in the list is larger the temporary value, we assign the larger value to the temporary variable. Once the loop finishes, we will have looked at every item in the list, and our temporary variable will hold the largest value in the list."
   ]
  },
  {
   "cell_type": "code",
   "execution_count": 10,
   "id": "Pvdt",
   "metadata": {},
   "outputs": [
    {
     "name": "stdout",
     "output_type": "stream",
     "text": [
      "The large number is: 5\n"
     ]
    }
   ],
   "source": [
    "largest = 0\n",
    "l = [1, 2, 3, 4, 5]\n",
    "\n",
    "for num in l:\n",
    "    if num > largest:\n",
    "        largest = num\n",
    "\n",
    "print(f\"The large number is: {largest}\")"
   ]
  },
  {
   "cell_type": "markdown",
   "id": "ZBYS",
   "metadata": {
    "marimo": {
     "config": {
      "hide_code": true
     }
    }
   },
   "source": [
    "## Example 6\n",
    "\n",
    "Write a program that, given a list of strings, prints the length of the longest string in the list. Use `len()` function to determine the length of each string item in the list.\n",
    "\n",
    "```{python}\n",
    "my_list = [\"first\", \"second\", \"fourth\", \"eleventh\"]\n",
    "```\n",
    "\n",
    "```\n",
    "The longest string is 8 characters long.\n",
    "```"
   ]
  },
  {
   "cell_type": "markdown",
   "id": "aLJB",
   "metadata": {
    "marimo": {
     "config": {
      "hide_code": true
     }
    }
   },
   "source": [
    "## Example 7\n",
    "\n",
    "Write a program that, given a list of strings, prints the text of the longest string in the list. Use `len()` function to determine the length of each string item in the list.\n",
    "\n",
    "```{python}\n",
    "my_list = [\"first\", \"second\", \"fourth\", \"eleventh\"]\n",
    "```\n",
    "\n",
    "```\n",
    "The longest string is: \"eleventh\".\n",
    "```"
   ]
  },
  {
   "cell_type": "markdown",
   "id": "nHfw",
   "metadata": {
    "marimo": {
     "config": {
      "hide_code": true
     }
    }
   },
   "source": [
    "## Example 8\n",
    "\n",
    "Write a program that, given a list of strings, prints **all** the longest string items in the list. This time, the given list might contain multiple strings of the same length, and the output must be given as a list.\n",
    "\n",
    "Use `len()` function to determine the length of each string item in the list.\n",
    "\n",
    "```{python}\n",
    "my_list = [\"adele\", \"mark\", \"dorothy\", \"tim\", \"hedy\", \"richard\"]\n",
    "```\n",
    "\n",
    "```\n",
    "['dorothy', 'richard']\n",
    "```"
   ]
  }
 ],
 "metadata": {
  "kernelspec": {
   "display_name": ".venv",
   "language": "python",
   "name": "python3"
  },
  "language_info": {
   "codemirror_mode": {
    "name": "ipython",
    "version": 3
   },
   "file_extension": ".py",
   "mimetype": "text/x-python",
   "name": "python",
   "nbconvert_exporter": "python",
   "pygments_lexer": "ipython3",
   "version": "3.13.5"
  }
 },
 "nbformat": 4,
 "nbformat_minor": 5
}
